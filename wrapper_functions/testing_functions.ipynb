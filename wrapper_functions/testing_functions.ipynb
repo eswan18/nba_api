{
 "cells": [
  {
   "cell_type": "code",
   "execution_count": 9,
   "metadata": {},
   "outputs": [],
   "source": [
    "import sys"
   ]
  },
  {
   "cell_type": "code",
   "execution_count": 11,
   "metadata": {},
   "outputs": [],
   "source": [
    "sys.path.append('C:\\\\Users\\\\gregw\\\\Documents\\\\personal_projects\\\\nba_api')"
   ]
  },
  {
   "cell_type": "code",
   "execution_count": 12,
   "metadata": {},
   "outputs": [],
   "source": [
    "from helper_functions.get_team_info import get_team_info"
   ]
  },
  {
   "cell_type": "code",
   "execution_count": 15,
   "metadata": {},
   "outputs": [],
   "source": [
    "team_info = get_team_info()"
   ]
  },
  {
   "cell_type": "code",
   "execution_count": 16,
   "metadata": {},
   "outputs": [
    {
     "data": {
      "text/html": [
       "<div>\n",
       "<style scoped>\n",
       "    .dataframe tbody tr th:only-of-type {\n",
       "        vertical-align: middle;\n",
       "    }\n",
       "\n",
       "    .dataframe tbody tr th {\n",
       "        vertical-align: top;\n",
       "    }\n",
       "\n",
       "    .dataframe thead th {\n",
       "        text-align: right;\n",
       "    }\n",
       "</style>\n",
       "<table border=\"1\" class=\"dataframe\">\n",
       "  <thead>\n",
       "    <tr style=\"text-align: right;\">\n",
       "      <th></th>\n",
       "      <th>abbreviation</th>\n",
       "      <th>city</th>\n",
       "      <th>full_name</th>\n",
       "      <th>id</th>\n",
       "      <th>nickname</th>\n",
       "      <th>state</th>\n",
       "      <th>year_founded</th>\n",
       "    </tr>\n",
       "  </thead>\n",
       "  <tbody>\n",
       "    <tr>\n",
       "      <th>0</th>\n",
       "      <td>ATL</td>\n",
       "      <td>Atlanta</td>\n",
       "      <td>Atlanta Hawks</td>\n",
       "      <td>1610612737</td>\n",
       "      <td>Hawks</td>\n",
       "      <td>Atlanta</td>\n",
       "      <td>1949</td>\n",
       "    </tr>\n",
       "    <tr>\n",
       "      <th>1</th>\n",
       "      <td>BOS</td>\n",
       "      <td>Boston</td>\n",
       "      <td>Boston Celtics</td>\n",
       "      <td>1610612738</td>\n",
       "      <td>Celtics</td>\n",
       "      <td>Massachusetts</td>\n",
       "      <td>1946</td>\n",
       "    </tr>\n",
       "    <tr>\n",
       "      <th>2</th>\n",
       "      <td>CLE</td>\n",
       "      <td>Cleveland</td>\n",
       "      <td>Cleveland Cavaliers</td>\n",
       "      <td>1610612739</td>\n",
       "      <td>Cavaliers</td>\n",
       "      <td>Ohio</td>\n",
       "      <td>1970</td>\n",
       "    </tr>\n",
       "    <tr>\n",
       "      <th>3</th>\n",
       "      <td>NOP</td>\n",
       "      <td>New Orleans</td>\n",
       "      <td>New Orleans Pelicans</td>\n",
       "      <td>1610612740</td>\n",
       "      <td>Pelicans</td>\n",
       "      <td>Louisiana</td>\n",
       "      <td>2002</td>\n",
       "    </tr>\n",
       "    <tr>\n",
       "      <th>4</th>\n",
       "      <td>CHI</td>\n",
       "      <td>Chicago</td>\n",
       "      <td>Chicago Bulls</td>\n",
       "      <td>1610612741</td>\n",
       "      <td>Bulls</td>\n",
       "      <td>Illinois</td>\n",
       "      <td>1966</td>\n",
       "    </tr>\n",
       "  </tbody>\n",
       "</table>\n",
       "</div>"
      ],
      "text/plain": [
       "  abbreviation         city             full_name          id   nickname  \\\n",
       "0          ATL      Atlanta         Atlanta Hawks  1610612737      Hawks   \n",
       "1          BOS       Boston        Boston Celtics  1610612738    Celtics   \n",
       "2          CLE    Cleveland   Cleveland Cavaliers  1610612739  Cavaliers   \n",
       "3          NOP  New Orleans  New Orleans Pelicans  1610612740   Pelicans   \n",
       "4          CHI      Chicago         Chicago Bulls  1610612741      Bulls   \n",
       "\n",
       "           state  year_founded  \n",
       "0        Atlanta          1949  \n",
       "1  Massachusetts          1946  \n",
       "2           Ohio          1970  \n",
       "3      Louisiana          2002  \n",
       "4       Illinois          1966  "
      ]
     },
     "execution_count": 16,
     "metadata": {},
     "output_type": "execute_result"
    }
   ],
   "source": [
    "team_info.head()"
   ]
  },
  {
   "cell_type": "code",
   "execution_count": 29,
   "metadata": {},
   "outputs": [
    {
     "ename": "SyntaxError",
     "evalue": "invalid syntax (get_game_ids.py, line 24)",
     "output_type": "error",
     "traceback": [
      "Traceback \u001b[1;36m(most recent call last)\u001b[0m:\n",
      "  File \u001b[0;32m\"C:\\Users\\gregw\\Anaconda3\\lib\\site-packages\\IPython\\core\\interactiveshell.py\"\u001b[0m, line \u001b[0;32m3267\u001b[0m, in \u001b[0;35mrun_code\u001b[0m\n    exec(code_obj, self.user_global_ns, self.user_ns)\n",
      "\u001b[1;36m  File \u001b[1;32m\"<ipython-input-29-c0e15218ac39>\"\u001b[1;36m, line \u001b[1;32m1\u001b[1;36m, in \u001b[1;35m<module>\u001b[1;36m\u001b[0m\n\u001b[1;33m    from helper_functions.get_game_ids import get_game_ids\u001b[0m\n",
      "\u001b[1;36m  File \u001b[1;32m\"C:\\Users\\gregw\\Documents\\personal_projects\\nba_api\\wrapper_functions\\helper_functions\\get_game_ids.py\"\u001b[1;36m, line \u001b[1;32m24\u001b[0m\n\u001b[1;33m    else:\u001b[0m\n\u001b[1;37m       ^\u001b[0m\n\u001b[1;31mSyntaxError\u001b[0m\u001b[1;31m:\u001b[0m invalid syntax\n"
     ]
    }
   ],
   "source": [
    "from helper_functions.get_game_ids import get_game_ids"
   ]
  },
  {
   "cell_type": "code",
   "execution_count": 44,
   "metadata": {},
   "outputs": [
    {
     "ename": "SyntaxError",
     "evalue": "invalid syntax (<ipython-input-44-98399db615be>, line 19)",
     "output_type": "error",
     "traceback": [
      "\u001b[1;36m  File \u001b[1;32m\"<ipython-input-44-98399db615be>\"\u001b[1;36m, line \u001b[1;32m19\u001b[0m\n\u001b[1;33m    else:\u001b[0m\n\u001b[1;37m       ^\u001b[0m\n\u001b[1;31mSyntaxError\u001b[0m\u001b[1;31m:\u001b[0m invalid syntax\n"
     ]
    }
   ],
   "source": [
    "if(team_ids is None):\n",
    "    \n",
    "    team_info = get_team_info()\n",
    "    team_ids = team_info['id']\n",
    "\n",
    "    for team in team_ids:\n",
    "        gamefinder = leaguegamefinder.LeagueGameFinder(team_id_nullable=team,\n",
    "                                season_nullable=Season.default,\n",
    "                                season_type_nullable=SeasonType.regular)\n",
    "\n",
    "        game_info_df = gamefinder.get_normalized_dict()\n",
    "        game_id_list = pd.DataFrame(games_dict['LeagueGameFinderResults'])['GAME_ID']\n",
    "        game_id_dict[team] = game_id_list\n",
    "\n",
    "    # extract unique dictionary values\n",
    "    l = list(game_id_dict.values())\n",
    "    return(list(set([item for sublist in l for item in sublist]))\n",
    "           \n",
    "else:\n",
    "           \n",
    "    team_info = get_team_info(team_abb)\n",
    "    team_ids = team_info[team_info['abbreviation'].isin(team_abb)]['id']\n",
    "\n",
    "    for team in team_ids:\n",
    "        gamefinder = leaguegamefinder.LeagueGameFinder(team_id_nullable=team,\n",
    "                                season_nullable=Season.default,\n",
    "                                season_type_nullable=SeasonType.regular)\n",
    "        game_info_df = gamefinder.get_normalized_dict()\n",
    "        game_id_list = pd.DataFrame(games_dict['LeagueGameFinderResults'])['GAME_ID']\n",
    "        game_id_dict(team) = game_id_list\n",
    "\n",
    "    # extract unique dictionary values\n",
    "    l = list(game_id_dict.values())\n",
    "    return(list(set([item for sublist in l for item in sublist]))"
   ]
  },
  {
   "cell_type": "code",
   "execution_count": null,
   "metadata": {},
   "outputs": [],
   "source": []
  }
 ],
 "metadata": {
  "kernelspec": {
   "display_name": "Python 3",
   "language": "python",
   "name": "python3"
  },
  "language_info": {
   "codemirror_mode": {
    "name": "ipython",
    "version": 3
   },
   "file_extension": ".py",
   "mimetype": "text/x-python",
   "name": "python",
   "nbconvert_exporter": "python",
   "pygments_lexer": "ipython3",
   "version": "3.7.1"
  }
 },
 "nbformat": 4,
 "nbformat_minor": 2
}
